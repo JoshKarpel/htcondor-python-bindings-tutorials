{
 "cells": [
  {
   "cell_type": "markdown",
   "metadata": {
    "pycharm": {}
   },
   "source": [
    "# Interacting With Daemons"
   ]
  },
  {
   "cell_type": "markdown",
   "metadata": {
    "pycharm": {}
   },
   "source": [
    "Launch this tutorial in a Jupyter Notebook on Binder: \n",
    "[![Binder](https://mybinder.org/badge_logo.svg)](https://mybinder.org/v2/gh/htcondor/htcondor-python-bindings-tutorials/master?urlpath=lab/tree/Interacting-With-Daemons.ipynb)\n",
    "\n",
    "In this module, we'll look at how the HTCondor Python bindings can be used to\n",
    "interact with running daemons.\n",
    "\n",
    "As usual, we start by importing the relevant modules:"
   ]
  },
  {
   "cell_type": "code",
   "execution_count": null,
   "metadata": {
    "pycharm": {}
   },
   "outputs": [],
   "source": [
    "import htcondor"
   ]
  },
  {
   "cell_type": "markdown",
   "metadata": {
    "pycharm": {}
   },
   "source": [
    "## Configuration\n",
    "\n",
    "The HTCondor configuration is exposed to Python in two ways:\n",
    "\n",
    "*  The local process's configuration is available in the module-level `param` object.\n",
    "*  A remote daemon's configuration may be queried using a `RemoteParam`\n",
    "\n",
    "The `param` object emulates a Python dictionary:"
   ]
  },
  {
   "cell_type": "code",
   "execution_count": null,
   "metadata": {
    "pycharm": {}
   },
   "outputs": [],
   "source": [
    "print(htcondor.param['SCHEDD_LOG'])   # Prints the schedd's current log file.\n",
    "print(htcondor.param.get('TOOL_LOG')) # Print None as TOOL_LOG isn't set by default.\n",
    "print(htcondor.param.setdefault('TOOL_LOG', '/tmp/log')) # Sets TOOL_LOG to /tmp/log.\n",
    "print(htcondor.param['TOOL_LOG'])     # Prints /tmp/log, as set above."
   ]
  },
  {
   "cell_type": "markdown",
   "metadata": {
    "pycharm": {}
   },
   "source": [
    "Note that assignments to `param` will persist only in memory; if we use `reload_config` to re-read the configuration files from disk, our change to `TOOL_LOG` disappears:"
   ]
  },
  {
   "cell_type": "code",
   "execution_count": null,
   "metadata": {
    "pycharm": {}
   },
   "outputs": [],
   "source": [
    "print(htcondor.param.get(\"TOOL_LOG\"))\n",
    "htcondor.reload_config()\n",
    "print(htcondor.param.get(\"TOOL_LOG\"))"
   ]
  },
  {
   "cell_type": "markdown",
   "metadata": {
    "pycharm": {}
   },
   "source": [
    "In HTCondor, a configuration *prefix* may indicate that a setting is specific to that daemon.  By default, the Python binding's prefix is ``TOOL``.  If you would like to use the configuration of a different daemon, utilize the ``set_subsystem`` function:"
   ]
  },
  {
   "cell_type": "code",
   "execution_count": null,
   "metadata": {
    "pycharm": {}
   },
   "outputs": [],
   "source": [
    "print(htcondor.param.setdefault(\"TEST_FOO\", \"bar\"))         # Sets the default value of TEST_FOO to bar\n",
    "print(htcondor.param.setdefault(\"SCHEDD.TEST_FOO\", \"baz\"))  # The schedd has a special setting for TEST_FOO\n",
    "print(htcondor.param['TEST_FOO'])        # Default access; should be 'bar'\n",
    "htcondor.set_subsystem('SCHEDD')  # Changes the running process to identify as a schedd.\n",
    "print(htcondor.param['TEST_FOO'])        # Since we now identify as a schedd, should use the special setting of 'baz'"
   ]
  },
  {
   "cell_type": "markdown",
   "metadata": {
    "pycharm": {}
   },
   "source": [
    "Between ``param``, ``reload_config``, and ``set_subsystem``, we can explore the configuration of the local host.\n",
    "\n",
    "What happens if we want to test the configuration of a remote daemon?  For that, we can use the `RemoteParam` class.\n",
    "\n",
    "The object is first initialized from the output of the `Collector.locate` method:"
   ]
  },
  {
   "cell_type": "code",
   "execution_count": null,
   "metadata": {
    "pycharm": {}
   },
   "outputs": [],
   "source": [
    "master_ad = htcondor.Collector().locate(htcondor.DaemonTypes.Master)\n",
    "print(master_ad['MyAddress'])\n",
    "master_param = htcondor.RemoteParam(master_ad)"
   ]
  },
  {
   "cell_type": "markdown",
   "metadata": {
    "pycharm": {}
   },
   "source": [
    "Once we have the ``master_param`` object, we can treat it like a local dictionary to access the remote daemon's configuration.\n",
    "\n",
    "**NOTE** that the `htcondor.param` objet attempts to infer type information for configuration values from the compile-time metadata while the `RemoteParam` object does not:"
   ]
  },
  {
   "cell_type": "code",
   "execution_count": null,
   "metadata": {
    "pycharm": {}
   },
   "outputs": [],
   "source": [
    "print(repr(master_param['UPDATE_INTERVAL']))      # Returns a string\n",
    "print(repr(htcondor.param['UPDATE_INTERVAL']))    # Returns an integer"
   ]
  },
  {
   "cell_type": "markdown",
   "metadata": {
    "pycharm": {}
   },
   "source": [
    "In fact, we can even *set* the daemon's configuration using the `RemoteParam` object... if we have permission.  By default, this is disabled for security reasons:"
   ]
  },
  {
   "cell_type": "code",
   "execution_count": null,
   "metadata": {
    "pycharm": {}
   },
   "outputs": [],
   "source": [
    "master_param['UPDATE_INTERVAL'] = '500'"
   ]
  },
  {
   "cell_type": "markdown",
   "metadata": {
    "pycharm": {}
   },
   "source": [
    "## Logging Subsystem\n",
    "\n",
    "The logging subsystem is available to the Python bindings; this is often useful for debugging network connection issues between the client and server.\n",
    "\n",
    "**NOTE** Jupyter notebooks discard output from library code; hence, you will not see the results of ``enable_debug`` below."
   ]
  },
  {
   "cell_type": "code",
   "execution_count": null,
   "metadata": {
    "pycharm": {}
   },
   "outputs": [],
   "source": [
    "htcondor.set_subsystem(\"TOOL\")\n",
    "htcondor.param['TOOL_DEBUG'] = 'D_FULLDEBUG'\n",
    "htcondor.param['TOOL_LOG'] = '/tmp/log'\n",
    "htcondor.enable_log()    # Send logs to the log file (/tmp/foo)\n",
    "htcondor.enable_debug()  # Send logs to stderr; this is ignored by the web notebook.\n",
    "print(open(\"/tmp/log\").read())  # Print the log's contents."
   ]
  },
  {
   "cell_type": "markdown",
   "metadata": {
    "pycharm": {}
   },
   "source": [
    "## Sending Daemon Commands\n",
    "\n",
    "An administrator can send administrative commands directly to the remote daemon.  This is useful if you'd like a certain daemon restarted, drained, or reconfigured.\n",
    "\n",
    "Because we have a personal HTCondor instance, we are the administrator - and we can test this out!\n",
    "\n",
    "To send a command, use the top-level ``send_command`` function, provide a daemon location, and provide a specific command from the `DaemonCommands` enumeration.  For example, we can *reconfigure*:"
   ]
  },
  {
   "cell_type": "code",
   "execution_count": null,
   "metadata": {
    "pycharm": {}
   },
   "outputs": [],
   "source": [
    "print(master_ad['MyAddress'])\n",
    "htcondor.send_command(master_ad, htcondor.DaemonCommands.Reconfig)\n",
    "import time\n",
    "time.sleep(1)\n",
    "log_lines = open(htcondor.param['MASTER_LOG']).readlines()\n",
    "print(log_lines[-4:])"
   ]
  },
  {
   "cell_type": "markdown",
   "metadata": {
    "pycharm": {}
   },
   "source": [
    "We can also instruct the master to shut down a specific daemon:"
   ]
  },
  {
   "cell_type": "code",
   "execution_count": null,
   "metadata": {
    "pycharm": {}
   },
   "outputs": [],
   "source": [
    "htcondor.send_command(master_ad, htcondor.DaemonCommands.DaemonOff, \"SCHEDD\")\n",
    "time.sleep(1)\n",
    "log_lines = open(htcondor.param['MASTER_LOG']).readlines()\n",
    "print(log_lines[-1])"
   ]
  },
  {
   "cell_type": "markdown",
   "metadata": {
    "pycharm": {}
   },
   "source": [
    "Or even turn off the whole HTCondor instance:"
   ]
  },
  {
   "cell_type": "code",
   "execution_count": null,
   "metadata": {
    "pycharm": {}
   },
   "outputs": [],
   "source": [
    "htcondor.send_command(master_ad, htcondor.DaemonCommands.OffFast)\n",
    "time.sleep(1)\n",
    "log_lines = open(htcondor.param['MASTER_LOG']).readlines()\n",
    "print(log_lines[-1])"
   ]
  },
  {
   "cell_type": "markdown",
   "metadata": {
    "pycharm": {}
   },
   "source": [
    "Let's turn HTCondor back on for future tutorials:"
   ]
  },
  {
   "cell_type": "code",
   "execution_count": null,
   "metadata": {
    "pycharm": {}
   },
   "outputs": [],
   "source": [
    "import os, time\n",
    "os.system(\"condor_master\")\n",
    "time.sleep(5)  # give condor a few seconds to get started"
   ]
  },
  {
   "cell_type": "code",
   "execution_count": null,
   "metadata": {},
   "outputs": [],
   "source": []
  }
 ],
 "metadata": {
  "kernelspec": {
   "display_name": "Python 3",
   "language": "python",
   "name": "python3"
  },
  "language_info": {
   "codemirror_mode": {
    "name": "ipython",
    "version": 3
   },
   "file_extension": ".py",
   "mimetype": "text/x-python",
   "name": "python",
   "nbconvert_exporter": "python",
   "pygments_lexer": "ipython3",
   "version": "3.7.6"
  }
 },
 "nbformat": 4,
 "nbformat_minor": 4
}