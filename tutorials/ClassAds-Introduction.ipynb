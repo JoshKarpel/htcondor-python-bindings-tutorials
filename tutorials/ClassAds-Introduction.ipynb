{
 "cells": [
  {
   "cell_type": "markdown",
   "metadata": {
    "pycharm": {}
   },
   "source": [
    "# ClassAds Introduction\n",
    "\n",
    "Launch this tutorial in a Jupyter Notebook on Binder: \n",
    "[![Binder](https://mybinder.org/badge_logo.svg)](https://mybinder.org/v2/gh/htcondor/htcondor-python-bindings-tutorials/master?urlpath=lab/tree/ClassAds-Introduction.ipynb)\n",
    "\n",
    "In this module, you will learn the basics of the [ClassAd language](https://research.cs.wisc.edu/htcondor/classad/classad.html), the policy and data exchange language that underpins all of HTCondor.  Before we start to interact with the HTCondor daemons, it is best to start here.\n",
    "\n",
    "We start off by importing the relevant module:"
   ]
  },
  {
   "cell_type": "code",
   "execution_count": null,
   "metadata": {
    "pycharm": {}
   },
   "outputs": [],
   "source": [
    "import classad"
   ]
  },
  {
   "cell_type": "markdown",
   "metadata": {
    "pycharm": {}
   },
   "source": [
    "Great!\n",
    "\n",
    "The Python bindings - and HTCondor itself - are strongly centered on the [ClassAd language](https://research.cs.wisc.edu/htcondor/classad/classad.html).  \n",
    "\n",
    "The ClassAd language is built around _values_ and _expressions_.  If you know Python, both concepts are familiar.  Examples of familiar values include:\n",
    "- Integers (`1`, `2`, `3`),\n",
    "- Floating point numbers (`3.145`, `-1e-6`)\n",
    "- Booleans (`true` and `false`).\n",
    "\n",
    "Examples of expressions are:\n",
    "- Attribute references: `foo`\n",
    "- Boolean expressions: `a && b`\n",
    "- Arithmetic expressions: `123 + c`\n",
    "- Function calls: `ifThenElse(foo == 123, 3.14, 5.2)`\n",
    "\n",
    "Expressions can be evaluated to values.  Unlike many programming languages, expressions are lazily-evaluated: they are kept in memory until a value is explicitly requested.\n",
    "\n",
    "The Python bindings interact with the ClassAd language through the `ExprTree` and `ClassAd` objects.  Let's first examine simple expressions:"
   ]
  },
  {
   "cell_type": "code",
   "execution_count": null,
   "metadata": {
    "pycharm": {}
   },
   "outputs": [],
   "source": [
    "arith_expr = classad.ExprTree(\"1 + 4\")\n",
    "print(\"ClassAd arithemetic expression: {} (of type {})\".format(arith_expr, type(arith_expr)))\n",
    "print(arith_expr.eval())"
   ]
  },
  {
   "cell_type": "code",
   "execution_count": null,
   "metadata": {
    "pycharm": {}
   },
   "outputs": [],
   "source": [
    "function_expr = classad.ExprTree(\"ifThenElse(4 > 6, 123, 456)\")\n",
    "print(\"Function expression: {}\".format(function_expr))\n",
    "value = function_expr.eval()\n",
    "print(\"Corresponding value: {} (of type {})\".format(value, type(value)))"
   ]
  },
  {
   "cell_type": "markdown",
   "metadata": {
    "pycharm": {}
   },
   "source": [
    "Notice that, when possible, we convert ClassAd values to Python values.  Hence, the result of evaluating the expression above is the Python number `456`.\n",
    "\n",
    "There are two important values in the ClassAd language that have no direct equivalent in Python: `Undefined` and `Error`.\n",
    "\n",
    "`Undefined` occurs when a reference occurs to an attribute that is not defined; it is analogous to a `NameError` exception in Python (but there is no concept of an exception in ClassAds).  `Error` occurs primarily when an expression combines two different types or when a function call occurs with the incorrect arguments."
   ]
  },
  {
   "cell_type": "code",
   "execution_count": null,
   "metadata": {
    "pycharm": {}
   },
   "outputs": [],
   "source": [
    "print(classad.ExprTree(\"foo\").eval())\n",
    "print(classad.ExprTree('5 + \"bar\"').eval())\n",
    "print(classad.ExprTree('ifThenElse(1, 2, 3, 4, 5)').eval())"
   ]
  },
  {
   "cell_type": "markdown",
   "metadata": {
    "pycharm": {}
   },
   "source": [
    "**So what?**\n",
    "\n",
    "Expressions, values, and various error conditions are not particularly inspiring or new.\n",
    "\n",
    "The concept that makes the ClassAd language special is, of course, the _ClassAd_!\n",
    "\n",
    "The ClassAd is analogous to a Python or JSON dictionary.  _Unlike_ a dictionary, which is a set of unique key-value pairs, the ClassAd object is a set of key-_expression_ pairs.  The expressions in the ad can contain attribute references to other keys in the ad.\n",
    "\n",
    "There are two common ways to represent ClassAds.  The \"new ClassAd\" format:\n",
    "```\n",
    "[a = 1;\n",
    " b = \"foo\";\n",
    " c = b\n",
    "]\n",
    "```\n",
    "\n",
    "And the \"old ClassAd\" format:\n",
    "```\n",
    "a = 1\n",
    "b = \"foo\"\n",
    "c = b\n",
    "```\n",
    "\n",
    "Despite the \"new\" and \"old\" monikers, \"new\" is over a decade old and HTCondor command line tools utilize the \"old\" representation; the Python bindings default to \"new\".\n",
    "\n",
    "A `ClassAd` object may be initialized via a string using one of the above representation.  As a ClassAd is so similar to a Python dictionary, they may also be constructed from a dictionary.\n",
    "\n",
    "Let's construct some ClassAds!"
   ]
  },
  {
   "cell_type": "code",
   "execution_count": null,
   "metadata": {
    "pycharm": {}
   },
   "outputs": [],
   "source": [
    "ad1 = classad.ClassAd(\"\"\"[\n",
    "a = 1;\n",
    "b = \"foo\";\n",
    "c = b;\n",
    "d = a + 4;\n",
    "]\"\"\")\n",
    "print(ad1)"
   ]
  },
  {
   "cell_type": "markdown",
   "metadata": {
    "pycharm": {}
   },
   "source": [
    "ClassAds are quite similar to dictionaries; in Python, the `ClassAd` object behaves similarly to a dictionary and has similar convenience methods:"
   ]
  },
  {
   "cell_type": "code",
   "execution_count": null,
   "metadata": {
    "pycharm": {}
   },
   "outputs": [],
   "source": [
    "print(ad1[\"a\"])\n",
    "print(ad1[\"not_here\"])"
   ]
  },
  {
   "cell_type": "code",
   "execution_count": null,
   "metadata": {
    "pycharm": {}
   },
   "outputs": [],
   "source": [
    "print(ad1.get(\"not_here\", 5))"
   ]
  },
  {
   "cell_type": "code",
   "execution_count": null,
   "metadata": {
    "pycharm": {}
   },
   "outputs": [],
   "source": [
    "ad1.update({\"e\": 8, \"f\": True})\n",
    "for key in ad1:\n",
    "    print(key, ad1[key])"
   ]
  },
  {
   "cell_type": "markdown",
   "metadata": {
    "pycharm": {}
   },
   "source": [
    "Remember our example of an `Undefined` attribute above?  We now can evaluate references within the ad:"
   ]
  },
  {
   "cell_type": "code",
   "execution_count": null,
   "metadata": {
    "pycharm": {}
   },
   "outputs": [],
   "source": [
    "print(ad1.eval(\"d\"))"
   ]
  },
  {
   "cell_type": "markdown",
   "metadata": {
    "pycharm": {}
   },
   "source": [
    "Note that an expression is still not evaluated until requested, even if it is invalid:"
   ]
  },
  {
   "cell_type": "code",
   "execution_count": null,
   "metadata": {
    "pycharm": {}
   },
   "outputs": [],
   "source": [
    "ad1[\"g\"] = classad.ExprTree(\"b + 5\")\n",
    "print(ad1[\"g\"], type(ad1[\"g\"]))\n",
    "print(ad1.eval(\"g\"))"
   ]
  },
  {
   "cell_type": "markdown",
   "metadata": {
    "pycharm": {}
   },
   "source": [
    "Onto HTCondor!\n",
    "--------------\n",
    "\n",
    "ClassAds and expressions are core concepts in interacting with HTCondor.  Internally, machines and jobs are represented as ClassAds; expressions are used to filter objects and to define policy.\n",
    "\n",
    "There's much more to learn in ClassAds!  For now, you have enough background to continue to the next tutorial - [HTCondor Introduction](HTCondor-Introduction.ipynb)."
   ]
  },
  {
   "cell_type": "code",
   "execution_count": null,
   "metadata": {},
   "outputs": [],
   "source": []
  }
 ],
 "metadata": {
  "kernelspec": {
   "display_name": "Python 3",
   "language": "python",
   "name": "python3"
  },
  "language_info": {
   "codemirror_mode": {
    "name": "ipython",
    "version": 3
   },
   "file_extension": ".py",
   "mimetype": "text/x-python",
   "name": "python",
   "nbconvert_exporter": "python",
   "pygments_lexer": "ipython3",
   "version": "3.7.6"
  }
 },
 "nbformat": 4,
 "nbformat_minor": 2
}
