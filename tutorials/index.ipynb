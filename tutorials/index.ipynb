{
 "cells": [
  {
   "cell_type": "markdown",
   "metadata": {
    "pycharm": {
     "name": "#%% md\n"
    }
   },
   "source": [
    "# HTCondor Python Bindings Tutorials\n",
    "\n",
    "The HTCondor Python bindings provide a powerful mechanism to interact with HTCondor from a Python program.\n",
    "They utilize the same C++ libraries as HTCondor itself, meaning they have nearly the same behavior as the command line tools.\n",
    "\n",
    "Here, you will learn the basics of the Python bindings and how to use them. \n",
    "The tutorials are broken down into a few major sections:\n",
    "\n",
    "- **Introductory Topics**, a quick overview of the major components for administrators and advanced users. Start here if you want to know where all the bits and pieces are. Each learning module is meant to be done in sequence.\n",
    "- **Advanced Topics**, an in-depth examination of the nooks and crannies of the system. Each module is standalone; read only those that look interesting to you.\n",
    "\n",
    "## Introductory Topics\n",
    "\n",
    "1.  [Submitting and Managing Jobs](Submitting-and-Managing-Jobs.ipynb) - How to submit and manage HTCondor jobs from Python.\n",
    "1.  [ClassAds Introduction](ClassAds-Introduction.ipynb) - The essentials of the ClassAd language.\n",
    "1.  [HTCondor Introduction](HTCondor-Introduction.ipynb) - How to interact with the individual HTCondor daemons.\n",
    "\n",
    "## Advanced Topics\n",
    "\n",
    "1.  [Advanced Job Submission and Management](Advanced-Job-Submission-And-Management.ipynb) - More details on submitting and managing jobs from Python.\n",
    "1.  [Advanced Schedd Interaction](Advanced-Schedd-Interactions.ipynb) - Performing transactions in the schedd and querying history.\n",
    "1.  [Interacting with Daemons](Interacting-With-Daemons.ipynb) - Generic commands that work with any HTCondor daemon.\n",
    "1.  [Scalable Job Tracking](Scalable-Job-Tracking.ipynb) - Techniques for keeping close track of many jobs without overloading the schedd.\n"
   ]
  }
 ],
 "metadata": {
  "kernelspec": {
   "display_name": "Python 3",
   "language": "python",
   "name": "python3"
  },
  "language_info": {
   "codemirror_mode": {
    "name": "ipython",
    "version": 3
   },
   "file_extension": ".py",
   "mimetype": "text/x-python",
   "name": "python",
   "nbconvert_exporter": "python",
   "pygments_lexer": "ipython3",
   "version": "3.7.6"
  }
 },
 "nbformat": 4,
 "nbformat_minor": 4
}